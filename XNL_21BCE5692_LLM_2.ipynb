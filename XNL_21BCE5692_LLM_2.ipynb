{
  "nbformat": 4,
  "nbformat_minor": 0,
  "metadata": {
    "colab": {
      "provenance": [],
      "gpuType": "T4"
    },
    "kernelspec": {
      "name": "python3",
      "display_name": "Python 3"
    },
    "language_info": {
      "name": "python"
    },
    "accelerator": "GPU",
    "widgets": {
      "application/vnd.jupyter.widget-state+json": {
        "da4c48d721a54a58b165ffbd6c96cef0": {
          "model_module": "@jupyter-widgets/controls",
          "model_name": "HBoxModel",
          "model_module_version": "1.5.0",
          "state": {
            "_dom_classes": [],
            "_model_module": "@jupyter-widgets/controls",
            "_model_module_version": "1.5.0",
            "_model_name": "HBoxModel",
            "_view_count": null,
            "_view_module": "@jupyter-widgets/controls",
            "_view_module_version": "1.5.0",
            "_view_name": "HBoxView",
            "box_style": "",
            "children": [
              "IPY_MODEL_e4dbea922c1748878ccd90df49de9985",
              "IPY_MODEL_2a6f644bd0d34b55bce4e3c1b3bcb3d1",
              "IPY_MODEL_810cf678c33246baa29c156935e7969e"
            ],
            "layout": "IPY_MODEL_5cb5f83b7d784086809fff578e4486b4"
          }
        },
        "e4dbea922c1748878ccd90df49de9985": {
          "model_module": "@jupyter-widgets/controls",
          "model_name": "HTMLModel",
          "model_module_version": "1.5.0",
          "state": {
            "_dom_classes": [],
            "_model_module": "@jupyter-widgets/controls",
            "_model_module_version": "1.5.0",
            "_model_name": "HTMLModel",
            "_view_count": null,
            "_view_module": "@jupyter-widgets/controls",
            "_view_module_version": "1.5.0",
            "_view_name": "HTMLView",
            "description": "",
            "description_tooltip": null,
            "layout": "IPY_MODEL_6a832dc794bb4cc5acb9a966cdbaa2c0",
            "placeholder": "​",
            "style": "IPY_MODEL_a52fe0ee1ff84399a99a694fd2ea03c2",
            "value": "Map: 100%"
          }
        },
        "2a6f644bd0d34b55bce4e3c1b3bcb3d1": {
          "model_module": "@jupyter-widgets/controls",
          "model_name": "FloatProgressModel",
          "model_module_version": "1.5.0",
          "state": {
            "_dom_classes": [],
            "_model_module": "@jupyter-widgets/controls",
            "_model_module_version": "1.5.0",
            "_model_name": "FloatProgressModel",
            "_view_count": null,
            "_view_module": "@jupyter-widgets/controls",
            "_view_module_version": "1.5.0",
            "_view_name": "ProgressView",
            "bar_style": "success",
            "description": "",
            "description_tooltip": null,
            "layout": "IPY_MODEL_ad23a54e47d34270a959387feb64e463",
            "max": 10570,
            "min": 0,
            "orientation": "horizontal",
            "style": "IPY_MODEL_68c6880d94b1430fb107f06fdab83b5e",
            "value": 10570
          }
        },
        "810cf678c33246baa29c156935e7969e": {
          "model_module": "@jupyter-widgets/controls",
          "model_name": "HTMLModel",
          "model_module_version": "1.5.0",
          "state": {
            "_dom_classes": [],
            "_model_module": "@jupyter-widgets/controls",
            "_model_module_version": "1.5.0",
            "_model_name": "HTMLModel",
            "_view_count": null,
            "_view_module": "@jupyter-widgets/controls",
            "_view_module_version": "1.5.0",
            "_view_name": "HTMLView",
            "description": "",
            "description_tooltip": null,
            "layout": "IPY_MODEL_c38aaab164184e45a811ea5a77a81280",
            "placeholder": "​",
            "style": "IPY_MODEL_5d9334e0a3764117a7dc3e7c12681d97",
            "value": " 10570/10570 [00:06&lt;00:00, 2165.77 examples/s]"
          }
        },
        "5cb5f83b7d784086809fff578e4486b4": {
          "model_module": "@jupyter-widgets/base",
          "model_name": "LayoutModel",
          "model_module_version": "1.2.0",
          "state": {
            "_model_module": "@jupyter-widgets/base",
            "_model_module_version": "1.2.0",
            "_model_name": "LayoutModel",
            "_view_count": null,
            "_view_module": "@jupyter-widgets/base",
            "_view_module_version": "1.2.0",
            "_view_name": "LayoutView",
            "align_content": null,
            "align_items": null,
            "align_self": null,
            "border": null,
            "bottom": null,
            "display": null,
            "flex": null,
            "flex_flow": null,
            "grid_area": null,
            "grid_auto_columns": null,
            "grid_auto_flow": null,
            "grid_auto_rows": null,
            "grid_column": null,
            "grid_gap": null,
            "grid_row": null,
            "grid_template_areas": null,
            "grid_template_columns": null,
            "grid_template_rows": null,
            "height": null,
            "justify_content": null,
            "justify_items": null,
            "left": null,
            "margin": null,
            "max_height": null,
            "max_width": null,
            "min_height": null,
            "min_width": null,
            "object_fit": null,
            "object_position": null,
            "order": null,
            "overflow": null,
            "overflow_x": null,
            "overflow_y": null,
            "padding": null,
            "right": null,
            "top": null,
            "visibility": null,
            "width": null
          }
        },
        "6a832dc794bb4cc5acb9a966cdbaa2c0": {
          "model_module": "@jupyter-widgets/base",
          "model_name": "LayoutModel",
          "model_module_version": "1.2.0",
          "state": {
            "_model_module": "@jupyter-widgets/base",
            "_model_module_version": "1.2.0",
            "_model_name": "LayoutModel",
            "_view_count": null,
            "_view_module": "@jupyter-widgets/base",
            "_view_module_version": "1.2.0",
            "_view_name": "LayoutView",
            "align_content": null,
            "align_items": null,
            "align_self": null,
            "border": null,
            "bottom": null,
            "display": null,
            "flex": null,
            "flex_flow": null,
            "grid_area": null,
            "grid_auto_columns": null,
            "grid_auto_flow": null,
            "grid_auto_rows": null,
            "grid_column": null,
            "grid_gap": null,
            "grid_row": null,
            "grid_template_areas": null,
            "grid_template_columns": null,
            "grid_template_rows": null,
            "height": null,
            "justify_content": null,
            "justify_items": null,
            "left": null,
            "margin": null,
            "max_height": null,
            "max_width": null,
            "min_height": null,
            "min_width": null,
            "object_fit": null,
            "object_position": null,
            "order": null,
            "overflow": null,
            "overflow_x": null,
            "overflow_y": null,
            "padding": null,
            "right": null,
            "top": null,
            "visibility": null,
            "width": null
          }
        },
        "a52fe0ee1ff84399a99a694fd2ea03c2": {
          "model_module": "@jupyter-widgets/controls",
          "model_name": "DescriptionStyleModel",
          "model_module_version": "1.5.0",
          "state": {
            "_model_module": "@jupyter-widgets/controls",
            "_model_module_version": "1.5.0",
            "_model_name": "DescriptionStyleModel",
            "_view_count": null,
            "_view_module": "@jupyter-widgets/base",
            "_view_module_version": "1.2.0",
            "_view_name": "StyleView",
            "description_width": ""
          }
        },
        "ad23a54e47d34270a959387feb64e463": {
          "model_module": "@jupyter-widgets/base",
          "model_name": "LayoutModel",
          "model_module_version": "1.2.0",
          "state": {
            "_model_module": "@jupyter-widgets/base",
            "_model_module_version": "1.2.0",
            "_model_name": "LayoutModel",
            "_view_count": null,
            "_view_module": "@jupyter-widgets/base",
            "_view_module_version": "1.2.0",
            "_view_name": "LayoutView",
            "align_content": null,
            "align_items": null,
            "align_self": null,
            "border": null,
            "bottom": null,
            "display": null,
            "flex": null,
            "flex_flow": null,
            "grid_area": null,
            "grid_auto_columns": null,
            "grid_auto_flow": null,
            "grid_auto_rows": null,
            "grid_column": null,
            "grid_gap": null,
            "grid_row": null,
            "grid_template_areas": null,
            "grid_template_columns": null,
            "grid_template_rows": null,
            "height": null,
            "justify_content": null,
            "justify_items": null,
            "left": null,
            "margin": null,
            "max_height": null,
            "max_width": null,
            "min_height": null,
            "min_width": null,
            "object_fit": null,
            "object_position": null,
            "order": null,
            "overflow": null,
            "overflow_x": null,
            "overflow_y": null,
            "padding": null,
            "right": null,
            "top": null,
            "visibility": null,
            "width": null
          }
        },
        "68c6880d94b1430fb107f06fdab83b5e": {
          "model_module": "@jupyter-widgets/controls",
          "model_name": "ProgressStyleModel",
          "model_module_version": "1.5.0",
          "state": {
            "_model_module": "@jupyter-widgets/controls",
            "_model_module_version": "1.5.0",
            "_model_name": "ProgressStyleModel",
            "_view_count": null,
            "_view_module": "@jupyter-widgets/base",
            "_view_module_version": "1.2.0",
            "_view_name": "StyleView",
            "bar_color": null,
            "description_width": ""
          }
        },
        "c38aaab164184e45a811ea5a77a81280": {
          "model_module": "@jupyter-widgets/base",
          "model_name": "LayoutModel",
          "model_module_version": "1.2.0",
          "state": {
            "_model_module": "@jupyter-widgets/base",
            "_model_module_version": "1.2.0",
            "_model_name": "LayoutModel",
            "_view_count": null,
            "_view_module": "@jupyter-widgets/base",
            "_view_module_version": "1.2.0",
            "_view_name": "LayoutView",
            "align_content": null,
            "align_items": null,
            "align_self": null,
            "border": null,
            "bottom": null,
            "display": null,
            "flex": null,
            "flex_flow": null,
            "grid_area": null,
            "grid_auto_columns": null,
            "grid_auto_flow": null,
            "grid_auto_rows": null,
            "grid_column": null,
            "grid_gap": null,
            "grid_row": null,
            "grid_template_areas": null,
            "grid_template_columns": null,
            "grid_template_rows": null,
            "height": null,
            "justify_content": null,
            "justify_items": null,
            "left": null,
            "margin": null,
            "max_height": null,
            "max_width": null,
            "min_height": null,
            "min_width": null,
            "object_fit": null,
            "object_position": null,
            "order": null,
            "overflow": null,
            "overflow_x": null,
            "overflow_y": null,
            "padding": null,
            "right": null,
            "top": null,
            "visibility": null,
            "width": null
          }
        },
        "5d9334e0a3764117a7dc3e7c12681d97": {
          "model_module": "@jupyter-widgets/controls",
          "model_name": "DescriptionStyleModel",
          "model_module_version": "1.5.0",
          "state": {
            "_model_module": "@jupyter-widgets/controls",
            "_model_module_version": "1.5.0",
            "_model_name": "DescriptionStyleModel",
            "_view_count": null,
            "_view_module": "@jupyter-widgets/base",
            "_view_module_version": "1.2.0",
            "_view_name": "StyleView",
            "description_width": ""
          }
        },
        "de47f765f84840a2a1a37a9d31d0c207": {
          "model_module": "@jupyter-widgets/controls",
          "model_name": "HBoxModel",
          "model_module_version": "1.5.0",
          "state": {
            "_dom_classes": [],
            "_model_module": "@jupyter-widgets/controls",
            "_model_module_version": "1.5.0",
            "_model_name": "HBoxModel",
            "_view_count": null,
            "_view_module": "@jupyter-widgets/controls",
            "_view_module_version": "1.5.0",
            "_view_name": "HBoxView",
            "box_style": "",
            "children": [
              "IPY_MODEL_e03e3821a9b04e68872fc28bc0935dcd",
              "IPY_MODEL_da65eb6986064a0990991f0d9eef4b5f",
              "IPY_MODEL_703bb17a65374b02b84d1ea69e04b049"
            ],
            "layout": "IPY_MODEL_85c44c0838b44ad0a4d6376ec0a44216"
          }
        },
        "e03e3821a9b04e68872fc28bc0935dcd": {
          "model_module": "@jupyter-widgets/controls",
          "model_name": "HTMLModel",
          "model_module_version": "1.5.0",
          "state": {
            "_dom_classes": [],
            "_model_module": "@jupyter-widgets/controls",
            "_model_module_version": "1.5.0",
            "_model_name": "HTMLModel",
            "_view_count": null,
            "_view_module": "@jupyter-widgets/controls",
            "_view_module_version": "1.5.0",
            "_view_name": "HTMLView",
            "description": "",
            "description_tooltip": null,
            "layout": "IPY_MODEL_cbcd797bfeab41d1adf8947627ee5359",
            "placeholder": "​",
            "style": "IPY_MODEL_6dac7f6de6c14c419a9301da91f3c351",
            "value": "Map: 100%"
          }
        },
        "da65eb6986064a0990991f0d9eef4b5f": {
          "model_module": "@jupyter-widgets/controls",
          "model_name": "FloatProgressModel",
          "model_module_version": "1.5.0",
          "state": {
            "_dom_classes": [],
            "_model_module": "@jupyter-widgets/controls",
            "_model_module_version": "1.5.0",
            "_model_name": "FloatProgressModel",
            "_view_count": null,
            "_view_module": "@jupyter-widgets/controls",
            "_view_module_version": "1.5.0",
            "_view_name": "ProgressView",
            "bar_style": "success",
            "description": "",
            "description_tooltip": null,
            "layout": "IPY_MODEL_c11b0ea5414a4f51b1c5d5dc5f4d8115",
            "max": 87599,
            "min": 0,
            "orientation": "horizontal",
            "style": "IPY_MODEL_8f91d89578ad49b99cdb7c74d35b647f",
            "value": 87599
          }
        },
        "703bb17a65374b02b84d1ea69e04b049": {
          "model_module": "@jupyter-widgets/controls",
          "model_name": "HTMLModel",
          "model_module_version": "1.5.0",
          "state": {
            "_dom_classes": [],
            "_model_module": "@jupyter-widgets/controls",
            "_model_module_version": "1.5.0",
            "_model_name": "HTMLModel",
            "_view_count": null,
            "_view_module": "@jupyter-widgets/controls",
            "_view_module_version": "1.5.0",
            "_view_name": "HTMLView",
            "description": "",
            "description_tooltip": null,
            "layout": "IPY_MODEL_c06fc489e4d5452692e7708d2f89d07e",
            "placeholder": "​",
            "style": "IPY_MODEL_1d6d1d61cb3b4d94822abcecc9fb3284",
            "value": " 87599/87599 [01:05&lt;00:00, 1572.28 examples/s]"
          }
        },
        "85c44c0838b44ad0a4d6376ec0a44216": {
          "model_module": "@jupyter-widgets/base",
          "model_name": "LayoutModel",
          "model_module_version": "1.2.0",
          "state": {
            "_model_module": "@jupyter-widgets/base",
            "_model_module_version": "1.2.0",
            "_model_name": "LayoutModel",
            "_view_count": null,
            "_view_module": "@jupyter-widgets/base",
            "_view_module_version": "1.2.0",
            "_view_name": "LayoutView",
            "align_content": null,
            "align_items": null,
            "align_self": null,
            "border": null,
            "bottom": null,
            "display": null,
            "flex": null,
            "flex_flow": null,
            "grid_area": null,
            "grid_auto_columns": null,
            "grid_auto_flow": null,
            "grid_auto_rows": null,
            "grid_column": null,
            "grid_gap": null,
            "grid_row": null,
            "grid_template_areas": null,
            "grid_template_columns": null,
            "grid_template_rows": null,
            "height": null,
            "justify_content": null,
            "justify_items": null,
            "left": null,
            "margin": null,
            "max_height": null,
            "max_width": null,
            "min_height": null,
            "min_width": null,
            "object_fit": null,
            "object_position": null,
            "order": null,
            "overflow": null,
            "overflow_x": null,
            "overflow_y": null,
            "padding": null,
            "right": null,
            "top": null,
            "visibility": null,
            "width": null
          }
        },
        "cbcd797bfeab41d1adf8947627ee5359": {
          "model_module": "@jupyter-widgets/base",
          "model_name": "LayoutModel",
          "model_module_version": "1.2.0",
          "state": {
            "_model_module": "@jupyter-widgets/base",
            "_model_module_version": "1.2.0",
            "_model_name": "LayoutModel",
            "_view_count": null,
            "_view_module": "@jupyter-widgets/base",
            "_view_module_version": "1.2.0",
            "_view_name": "LayoutView",
            "align_content": null,
            "align_items": null,
            "align_self": null,
            "border": null,
            "bottom": null,
            "display": null,
            "flex": null,
            "flex_flow": null,
            "grid_area": null,
            "grid_auto_columns": null,
            "grid_auto_flow": null,
            "grid_auto_rows": null,
            "grid_column": null,
            "grid_gap": null,
            "grid_row": null,
            "grid_template_areas": null,
            "grid_template_columns": null,
            "grid_template_rows": null,
            "height": null,
            "justify_content": null,
            "justify_items": null,
            "left": null,
            "margin": null,
            "max_height": null,
            "max_width": null,
            "min_height": null,
            "min_width": null,
            "object_fit": null,
            "object_position": null,
            "order": null,
            "overflow": null,
            "overflow_x": null,
            "overflow_y": null,
            "padding": null,
            "right": null,
            "top": null,
            "visibility": null,
            "width": null
          }
        },
        "6dac7f6de6c14c419a9301da91f3c351": {
          "model_module": "@jupyter-widgets/controls",
          "model_name": "DescriptionStyleModel",
          "model_module_version": "1.5.0",
          "state": {
            "_model_module": "@jupyter-widgets/controls",
            "_model_module_version": "1.5.0",
            "_model_name": "DescriptionStyleModel",
            "_view_count": null,
            "_view_module": "@jupyter-widgets/base",
            "_view_module_version": "1.2.0",
            "_view_name": "StyleView",
            "description_width": ""
          }
        },
        "c11b0ea5414a4f51b1c5d5dc5f4d8115": {
          "model_module": "@jupyter-widgets/base",
          "model_name": "LayoutModel",
          "model_module_version": "1.2.0",
          "state": {
            "_model_module": "@jupyter-widgets/base",
            "_model_module_version": "1.2.0",
            "_model_name": "LayoutModel",
            "_view_count": null,
            "_view_module": "@jupyter-widgets/base",
            "_view_module_version": "1.2.0",
            "_view_name": "LayoutView",
            "align_content": null,
            "align_items": null,
            "align_self": null,
            "border": null,
            "bottom": null,
            "display": null,
            "flex": null,
            "flex_flow": null,
            "grid_area": null,
            "grid_auto_columns": null,
            "grid_auto_flow": null,
            "grid_auto_rows": null,
            "grid_column": null,
            "grid_gap": null,
            "grid_row": null,
            "grid_template_areas": null,
            "grid_template_columns": null,
            "grid_template_rows": null,
            "height": null,
            "justify_content": null,
            "justify_items": null,
            "left": null,
            "margin": null,
            "max_height": null,
            "max_width": null,
            "min_height": null,
            "min_width": null,
            "object_fit": null,
            "object_position": null,
            "order": null,
            "overflow": null,
            "overflow_x": null,
            "overflow_y": null,
            "padding": null,
            "right": null,
            "top": null,
            "visibility": null,
            "width": null
          }
        },
        "8f91d89578ad49b99cdb7c74d35b647f": {
          "model_module": "@jupyter-widgets/controls",
          "model_name": "ProgressStyleModel",
          "model_module_version": "1.5.0",
          "state": {
            "_model_module": "@jupyter-widgets/controls",
            "_model_module_version": "1.5.0",
            "_model_name": "ProgressStyleModel",
            "_view_count": null,
            "_view_module": "@jupyter-widgets/base",
            "_view_module_version": "1.2.0",
            "_view_name": "StyleView",
            "bar_color": null,
            "description_width": ""
          }
        },
        "c06fc489e4d5452692e7708d2f89d07e": {
          "model_module": "@jupyter-widgets/base",
          "model_name": "LayoutModel",
          "model_module_version": "1.2.0",
          "state": {
            "_model_module": "@jupyter-widgets/base",
            "_model_module_version": "1.2.0",
            "_model_name": "LayoutModel",
            "_view_count": null,
            "_view_module": "@jupyter-widgets/base",
            "_view_module_version": "1.2.0",
            "_view_name": "LayoutView",
            "align_content": null,
            "align_items": null,
            "align_self": null,
            "border": null,
            "bottom": null,
            "display": null,
            "flex": null,
            "flex_flow": null,
            "grid_area": null,
            "grid_auto_columns": null,
            "grid_auto_flow": null,
            "grid_auto_rows": null,
            "grid_column": null,
            "grid_gap": null,
            "grid_row": null,
            "grid_template_areas": null,
            "grid_template_columns": null,
            "grid_template_rows": null,
            "height": null,
            "justify_content": null,
            "justify_items": null,
            "left": null,
            "margin": null,
            "max_height": null,
            "max_width": null,
            "min_height": null,
            "min_width": null,
            "object_fit": null,
            "object_position": null,
            "order": null,
            "overflow": null,
            "overflow_x": null,
            "overflow_y": null,
            "padding": null,
            "right": null,
            "top": null,
            "visibility": null,
            "width": null
          }
        },
        "1d6d1d61cb3b4d94822abcecc9fb3284": {
          "model_module": "@jupyter-widgets/controls",
          "model_name": "DescriptionStyleModel",
          "model_module_version": "1.5.0",
          "state": {
            "_model_module": "@jupyter-widgets/controls",
            "_model_module_version": "1.5.0",
            "_model_name": "DescriptionStyleModel",
            "_view_count": null,
            "_view_module": "@jupyter-widgets/base",
            "_view_module_version": "1.2.0",
            "_view_name": "StyleView",
            "description_width": ""
          }
        }
      }
    }
  },
  "cells": [
    {
      "cell_type": "markdown",
      "source": [
        "# TASK 2: ULTRA-ADVANCED LLM FINE-TUNING & OPTIMIZATION"
      ],
      "metadata": {
        "id": "BcEycTabd8Zc"
      }
    },
    {
      "cell_type": "markdown",
      "source": [
        "##PHASE 1: INITIAL DESIGN & INFEASIBILITY ASSESSMENT\n",
        "1.1 Assess LLM Fine-Tuning Requirements"
      ],
      "metadata": {
        "id": "SSm1rkR5eh9B"
      }
    },
    {
      "cell_type": "code",
      "source": [
        "# Install Required Libraries\n",
        "!pip install transformers datasets torch deepspeed accelerate optuna ray[tune] wandb tensorflow cloud-tpu-client --quiet\n",
        "\n",
        "# Import Libraries\n",
        "import torch\n",
        "from transformers import AutoModelForCausalLM, AutoTokenizer\n",
        "from datasets import load_dataset\n",
        "\n",
        "# Step 1: Select Target LLM\n",
        "MODEL_NAME = \"EleutherAI/gpt-neo-1.3B\"\n",
        "tokenizer = AutoTokenizer.from_pretrained(MODEL_NAME)\n",
        "model = AutoModelForCausalLM.from_pretrained(MODEL_NAME)\n",
        "\n",
        "# Step 2: Load Fine-Tuning Dataset\n",
        "dataset = load_dataset(\"squad\")\n",
        "print(dataset)"
      ],
      "metadata": {
        "colab": {
          "base_uri": "https://localhost:8080/"
        },
        "id": "_dLKB3Yqd3Jo",
        "outputId": "4bc1379d-df74-4e59-d618-6d1362e62f13"
      },
      "execution_count": 3,
      "outputs": [
        {
          "output_type": "stream",
          "name": "stderr",
          "text": [
            "/usr/local/lib/python3.11/dist-packages/huggingface_hub/utils/_auth.py:94: UserWarning: \n",
            "The secret `HF_TOKEN` does not exist in your Colab secrets.\n",
            "To authenticate with the Hugging Face Hub, create a token in your settings tab (https://huggingface.co/settings/tokens), set it as secret in your Google Colab and restart your session.\n",
            "You will be able to reuse this secret in all of your notebooks.\n",
            "Please note that authentication is recommended but still optional to access public models or datasets.\n",
            "  warnings.warn(\n"
          ]
        },
        {
          "output_type": "stream",
          "name": "stdout",
          "text": [
            "DatasetDict({\n",
            "    train: Dataset({\n",
            "        features: ['id', 'title', 'context', 'question', 'answers'],\n",
            "        num_rows: 87599\n",
            "    })\n",
            "    validation: Dataset({\n",
            "        features: ['id', 'title', 'context', 'question', 'answers'],\n",
            "        num_rows: 10570\n",
            "    })\n",
            "})\n"
          ]
        }
      ]
    },
    {
      "cell_type": "markdown",
      "source": [
        "1.2 Infrastructure & Cloud Planning"
      ],
      "metadata": {
        "id": "8xMNBEsLessr"
      }
    },
    {
      "cell_type": "code",
      "source": [
        "# Step 1: Multi-Cloud Infrastructure Design\n",
        "# (Manual setup required on AWS, GCP, or Azure Free Tier)\n",
        "\n",
        "# Step 2: High-Performance Compute Selection\n",
        "# Use Colab's free GPU or upgrade to Colab Pro for better GPUs (e.g., T4, A100)\n",
        "print(\"GPU Available:\", torch.cuda.is_available())\n",
        "print(\"GPU Name:\", torch.cuda.get_device_name(0))\n"
      ],
      "metadata": {
        "colab": {
          "base_uri": "https://localhost:8080/"
        },
        "id": "_invVvScd3MR",
        "outputId": "e9a5230e-2df2-4cd1-b186-d627427c07e1"
      },
      "execution_count": 4,
      "outputs": [
        {
          "output_type": "stream",
          "name": "stdout",
          "text": [
            "GPU Available: True\n",
            "GPU Name: Tesla T4\n"
          ]
        }
      ]
    },
    {
      "cell_type": "markdown",
      "source": [
        "##PHASE 2: LLM FINE-TUNING FRAMEWORK SETUP & DISTRIBUTED TRAINING\n",
        "2.1 Setup LLM Fine-Tuning Framework"
      ],
      "metadata": {
        "id": "6k8OIQm_ezBW"
      }
    },
    {
      "cell_type": "code",
      "source": [
        "# Step 1: Model Checkpoints\n",
        "# Use pre-trained weights from Hugging Face Hub\n",
        "model = AutoModelForCausalLM.from_pretrained(MODEL_NAME)\n",
        "\n",
        "# Step 2: Hyperparameter Tuning Tools\n",
        "import optuna\n",
        "from transformers import TrainingArguments, Trainer\n"
      ],
      "metadata": {
        "id": "wgBo-AZBd3O-"
      },
      "execution_count": 5,
      "outputs": []
    },
    {
      "cell_type": "markdown",
      "source": [
        "2.2 Distributed Training & Optimization"
      ],
      "metadata": {
        "id": "YSrRpMEOe5kF"
      }
    },
    {
      "cell_type": "code",
      "source": [
        "# Step 1: Data Parallelism\n",
        "# Use DeepSpeed for distributed training\n",
        "!pip install deepspeed\n",
        "\n",
        "# Step 2: Gradient Accumulation\n",
        "training_args = TrainingArguments(\n",
        "    output_dir=\"./results\",\n",
        "    per_device_train_batch_size=4,\n",
        "    gradient_accumulation_steps=2,\n",
        "    num_train_epochs=3,\n",
        "    learning_rate=5e-5,\n",
        "    weight_decay=0.01,\n",
        "    fp16=True,\n",
        "    logging_steps=50,\n",
        "    save_steps=200,\n",
        "    save_total_limit=2,\n",
        "    report_to=\"wandb\"\n",
        ")\n",
        "\n",
        "# Step 3: Sharded Data Loading\n",
        "# (Use PyTorch DataLoader for efficient data loading)\n",
        "from torch.utils.data import DataLoader\n",
        "\n",
        "train_loader = DataLoader(dataset[\"train\"], batch_size=4, shuffle=True)\n"
      ],
      "metadata": {
        "colab": {
          "base_uri": "https://localhost:8080/"
        },
        "id": "UpWjvlrsd3Rt",
        "outputId": "24ce3633-3c6b-4c85-ba69-6b58dfc1e337"
      },
      "execution_count": 6,
      "outputs": [
        {
          "output_type": "stream",
          "name": "stdout",
          "text": [
            "Requirement already satisfied: deepspeed in /usr/local/lib/python3.11/dist-packages (0.16.4)\n",
            "Requirement already satisfied: einops in /usr/local/lib/python3.11/dist-packages (from deepspeed) (0.8.1)\n",
            "Requirement already satisfied: hjson in /usr/local/lib/python3.11/dist-packages (from deepspeed) (3.1.0)\n",
            "Requirement already satisfied: msgpack in /usr/local/lib/python3.11/dist-packages (from deepspeed) (1.1.0)\n",
            "Requirement already satisfied: ninja in /usr/local/lib/python3.11/dist-packages (from deepspeed) (1.11.1.3)\n",
            "Requirement already satisfied: numpy in /usr/local/lib/python3.11/dist-packages (from deepspeed) (1.26.4)\n",
            "Requirement already satisfied: packaging>=20.0 in /usr/local/lib/python3.11/dist-packages (from deepspeed) (24.2)\n",
            "Requirement already satisfied: psutil in /usr/local/lib/python3.11/dist-packages (from deepspeed) (5.9.5)\n",
            "Requirement already satisfied: py-cpuinfo in /usr/local/lib/python3.11/dist-packages (from deepspeed) (9.0.0)\n",
            "Requirement already satisfied: pydantic>=2.0.0 in /usr/local/lib/python3.11/dist-packages (from deepspeed) (2.10.6)\n",
            "Requirement already satisfied: torch in /usr/local/lib/python3.11/dist-packages (from deepspeed) (2.5.1+cu124)\n",
            "Requirement already satisfied: tqdm in /usr/local/lib/python3.11/dist-packages (from deepspeed) (4.67.1)\n",
            "Requirement already satisfied: nvidia-ml-py in /usr/local/lib/python3.11/dist-packages (from deepspeed) (12.570.86)\n",
            "Requirement already satisfied: annotated-types>=0.6.0 in /usr/local/lib/python3.11/dist-packages (from pydantic>=2.0.0->deepspeed) (0.7.0)\n",
            "Requirement already satisfied: pydantic-core==2.27.2 in /usr/local/lib/python3.11/dist-packages (from pydantic>=2.0.0->deepspeed) (2.27.2)\n",
            "Requirement already satisfied: typing-extensions>=4.12.2 in /usr/local/lib/python3.11/dist-packages (from pydantic>=2.0.0->deepspeed) (4.12.2)\n",
            "Requirement already satisfied: filelock in /usr/local/lib/python3.11/dist-packages (from torch->deepspeed) (3.17.0)\n",
            "Requirement already satisfied: networkx in /usr/local/lib/python3.11/dist-packages (from torch->deepspeed) (3.4.2)\n",
            "Requirement already satisfied: jinja2 in /usr/local/lib/python3.11/dist-packages (from torch->deepspeed) (3.1.6)\n",
            "Requirement already satisfied: fsspec in /usr/local/lib/python3.11/dist-packages (from torch->deepspeed) (2024.10.0)\n",
            "Requirement already satisfied: nvidia-cuda-nvrtc-cu12==12.4.127 in /usr/local/lib/python3.11/dist-packages (from torch->deepspeed) (12.4.127)\n",
            "Requirement already satisfied: nvidia-cuda-runtime-cu12==12.4.127 in /usr/local/lib/python3.11/dist-packages (from torch->deepspeed) (12.4.127)\n",
            "Requirement already satisfied: nvidia-cuda-cupti-cu12==12.4.127 in /usr/local/lib/python3.11/dist-packages (from torch->deepspeed) (12.4.127)\n",
            "Requirement already satisfied: nvidia-cudnn-cu12==9.1.0.70 in /usr/local/lib/python3.11/dist-packages (from torch->deepspeed) (9.1.0.70)\n",
            "Requirement already satisfied: nvidia-cublas-cu12==12.4.5.8 in /usr/local/lib/python3.11/dist-packages (from torch->deepspeed) (12.4.5.8)\n",
            "Requirement already satisfied: nvidia-cufft-cu12==11.2.1.3 in /usr/local/lib/python3.11/dist-packages (from torch->deepspeed) (11.2.1.3)\n",
            "Requirement already satisfied: nvidia-curand-cu12==10.3.5.147 in /usr/local/lib/python3.11/dist-packages (from torch->deepspeed) (10.3.5.147)\n",
            "Requirement already satisfied: nvidia-cusolver-cu12==11.6.1.9 in /usr/local/lib/python3.11/dist-packages (from torch->deepspeed) (11.6.1.9)\n",
            "Requirement already satisfied: nvidia-cusparse-cu12==12.3.1.170 in /usr/local/lib/python3.11/dist-packages (from torch->deepspeed) (12.3.1.170)\n",
            "Requirement already satisfied: nvidia-nccl-cu12==2.21.5 in /usr/local/lib/python3.11/dist-packages (from torch->deepspeed) (2.21.5)\n",
            "Requirement already satisfied: nvidia-nvtx-cu12==12.4.127 in /usr/local/lib/python3.11/dist-packages (from torch->deepspeed) (12.4.127)\n",
            "Requirement already satisfied: nvidia-nvjitlink-cu12==12.4.127 in /usr/local/lib/python3.11/dist-packages (from torch->deepspeed) (12.4.127)\n",
            "Requirement already satisfied: triton==3.1.0 in /usr/local/lib/python3.11/dist-packages (from torch->deepspeed) (3.1.0)\n",
            "Requirement already satisfied: sympy==1.13.1 in /usr/local/lib/python3.11/dist-packages (from torch->deepspeed) (1.13.1)\n",
            "Requirement already satisfied: mpmath<1.4,>=1.1.0 in /usr/local/lib/python3.11/dist-packages (from sympy==1.13.1->torch->deepspeed) (1.3.0)\n",
            "Requirement already satisfied: MarkupSafe>=2.0 in /usr/local/lib/python3.11/dist-packages (from jinja2->torch->deepspeed) (3.0.2)\n"
          ]
        }
      ]
    },
    {
      "cell_type": "markdown",
      "source": [
        "##PHASE 3: MODEL FINE-TUNING WITH ADVANCED OPTIMIZATION\n",
        "\n",
        "3.1 Advanced Hyperparameter Tuning"
      ],
      "metadata": {
        "id": "shviy6MPfFph"
      }
    },
    {
      "cell_type": "code",
      "source": [
        "Define Hyperparameter Tuning Objective Function\n",
        "def objective(trial):\n",
        "    # Define hyperparameters to tune\n",
        "    learning_rate = trial.suggest_float(\"learning_rate\", 1e-5, 1e-3, log=True)\n",
        "    batch_size = trial.suggest_categorical(\"batch_size\", [4, 8, 16])\n",
        "    num_epochs = trial.suggest_int(\"num_epochs\", 1, 5)\n",
        "\n",
        "    # Update TrainingArguments with the suggested hyperparameters\n",
        "    training_args = TrainingArguments(\n",
        "        output_dir=\"./results\",\n",
        "        per_device_train_batch_size=batch_size,\n",
        "        gradient_accumulation_steps=2,\n",
        "        num_train_epochs=num_epochs,\n",
        "        learning_rate=learning_rate,\n",
        "        weight_decay=0.01,\n",
        "        fp16=True,\n",
        "        logging_steps=50,\n",
        "        save_steps=200,\n",
        "        save_total_limit=2,\n",
        "        report_to=\"wandb\",\n",
        "        remove_unused_columns=False\n",
        "    )\n",
        "\n",
        "    # Initialize Trainer with the updated training_args\n",
        "    trainer = Trainer(\n",
        "        model=model,\n",
        "        args=training_args,\n",
        "        train_dataset=tokenized_dataset[\"train\"],\n",
        "    )"
      ],
      "metadata": {
        "colab": {
          "base_uri": "https://localhost:8080/",
          "height": 49,
          "referenced_widgets": [
            "da4c48d721a54a58b165ffbd6c96cef0",
            "e4dbea922c1748878ccd90df49de9985",
            "2a6f644bd0d34b55bce4e3c1b3bcb3d1",
            "810cf678c33246baa29c156935e7969e",
            "5cb5f83b7d784086809fff578e4486b4",
            "6a832dc794bb4cc5acb9a966cdbaa2c0",
            "a52fe0ee1ff84399a99a694fd2ea03c2",
            "ad23a54e47d34270a959387feb64e463",
            "68c6880d94b1430fb107f06fdab83b5e",
            "c38aaab164184e45a811ea5a77a81280",
            "5d9334e0a3764117a7dc3e7c12681d97"
          ]
        },
        "id": "R5yPiXqEndvX",
        "outputId": "eed797d0-1b67-4557-8e2f-12ccf7a0db45"
      },
      "execution_count": 29,
      "outputs": [
        {
          "output_type": "display_data",
          "data": {
            "text/plain": [
              "Map:   0%|          | 0/10570 [00:00<?, ? examples/s]"
            ],
            "application/vnd.jupyter.widget-view+json": {
              "version_major": 2,
              "version_minor": 0,
              "model_id": "da4c48d721a54a58b165ffbd6c96cef0"
            }
          },
          "metadata": {}
        }
      ]
    },
    {
      "cell_type": "markdown",
      "source": [
        "3.2 Data & Model Augmentation"
      ],
      "metadata": {
        "id": "dk56E7HLij63"
      }
    },
    {
      "cell_type": "code",
      "source": [
        "# Step 1: Data Preprocessing & Augmentation\n",
        "# (Use Hugging Face Datasets for tokenization and augmentation)\n",
        "def tokenize_function(examples):\n",
        "    return tokenizer(examples[\"context\"], truncation=True, padding=\"max_length\", max_length=512)\n",
        "\n",
        "tokenized_dataset = dataset.map(tokenize_function, batched=True)\n"
      ],
      "metadata": {
        "colab": {
          "base_uri": "https://localhost:8080/",
          "height": 49,
          "referenced_widgets": [
            "de47f765f84840a2a1a37a9d31d0c207",
            "e03e3821a9b04e68872fc28bc0935dcd",
            "da65eb6986064a0990991f0d9eef4b5f",
            "703bb17a65374b02b84d1ea69e04b049",
            "85c44c0838b44ad0a4d6376ec0a44216",
            "cbcd797bfeab41d1adf8947627ee5359",
            "6dac7f6de6c14c419a9301da91f3c351",
            "c11b0ea5414a4f51b1c5d5dc5f4d8115",
            "8f91d89578ad49b99cdb7c74d35b647f",
            "c06fc489e4d5452692e7708d2f89d07e",
            "1d6d1d61cb3b4d94822abcecc9fb3284"
          ]
        },
        "id": "8LkSC-Agd3W8",
        "outputId": "36009ec7-5652-45ef-cf67-e33dffebe978"
      },
      "execution_count": 13,
      "outputs": [
        {
          "output_type": "display_data",
          "data": {
            "text/plain": [
              "Map:   0%|          | 0/87599 [00:00<?, ? examples/s]"
            ],
            "application/vnd.jupyter.widget-view+json": {
              "version_major": 2,
              "version_minor": 0,
              "model_id": "de47f765f84840a2a1a37a9d31d0c207"
            }
          },
          "metadata": {}
        }
      ]
    },
    {
      "cell_type": "markdown",
      "source": [
        "\n",
        "##PHASE 4: ADVANCED AI AGENTS FOR AUTOMATION AND OPTIMIZATION\n",
        "\n",
        "4.1 AI Agent Integration for Monitoring & Automation"
      ],
      "metadata": {
        "id": "vr6VJDWiiqYX"
      }
    },
    {
      "cell_type": "code",
      "source": [
        "# Step 1: AI-Driven Model Monitoring\n",
        "import wandb\n",
        "wandb.init(project=\"llm-fine-tuning\")\n",
        "\n",
        "# Step 2: Optimization Automation\n",
        "# (Use WandB for real-time monitoring and hyperparameter tuning)"
      ],
      "metadata": {
        "colab": {
          "base_uri": "https://localhost:8080/",
          "height": 437
        },
        "id": "c1CGDbgwd3Zn",
        "outputId": "56b628cb-314f-4eb2-a5bf-1ce4ae245e90"
      },
      "execution_count": 14,
      "outputs": [
        {
          "output_type": "execute_result",
          "data": {
            "text/html": [
              "<button onClick=\"this.nextSibling.style.display='block';this.style.display='none';\">Display W&B run</button><iframe src='https://wandb.ai/shiva-buddepu-vellore-institute-of-technology/huggingface/runs/0e69x09d?jupyter=true' style='border:none;width:100%;height:420px;display:none;'></iframe>"
            ],
            "text/plain": [
              "<wandb.sdk.wandb_run.Run at 0x7a5590d92c10>"
            ]
          },
          "metadata": {},
          "execution_count": 14
        }
      ]
    },
    {
      "cell_type": "markdown",
      "source": [
        "4.2 AI-Powered Resource Allocation"
      ],
      "metadata": {
        "id": "3N6iCFBpi29Y"
      }
    },
    {
      "cell_type": "code",
      "source": [
        "#Step 1: Install Required Libraries\n",
        "!pip install ray[tune] wandb nvidia-ml-py3 --quiet"
      ],
      "metadata": {
        "colab": {
          "base_uri": "https://localhost:8080/"
        },
        "id": "Ndubid1Zo_Ru",
        "outputId": "15ceec9a-607c-422c-915d-d685932915d2"
      },
      "execution_count": 34,
      "outputs": [
        {
          "output_type": "stream",
          "name": "stdout",
          "text": [
            "  Preparing metadata (setup.py) ... \u001b[?25l\u001b[?25hdone\n",
            "  Building wheel for nvidia-ml-py3 (setup.py) ... \u001b[?25l\u001b[?25hdone\n"
          ]
        }
      ]
    },
    {
      "cell_type": "code",
      "source": [
        "#Step 2: Monitor GPU Usage\n",
        "import pynvml  # NVIDIA Management Library for GPU monitoring\n",
        "\n",
        "# Initialize NVIDIA ML\n",
        "pynvml.nvmlInit()\n",
        "\n",
        "# Function to monitor GPU usage\n",
        "def monitor_gpu():\n",
        "    device_count = pynvml.nvmlDeviceGetCount()\n",
        "    for i in range(device_count):\n",
        "        handle = pynvml.nvmlDeviceGetHandleByIndex(i)\n",
        "        info = pynvml.nvmlDeviceGetMemoryInfo(handle)\n",
        "        print(f\"GPU {i}:\")\n",
        "        print(f\"  Memory Used: {info.used / 1024 ** 2:.2f} MB\")\n",
        "        print(f\"  Memory Free: {info.free / 1024 ** 2:.2f} MB\")\n",
        "        print(f\"  Memory Total: {info.total / 1024 ** 2:.2f} MB\")\n"
      ],
      "metadata": {
        "id": "oXdAmd-no_VD"
      },
      "execution_count": 42,
      "outputs": []
    },
    {
      "cell_type": "code",
      "source": [
        "import wandb\n",
        "\n",
        "# Initialize Weights & Biases for monitoring\n",
        "wandb.init(project=\"llm-fine-tuning\")\n",
        "\n",
        "# Simulate AI agent for auto-tuning\n",
        "def ai_agent():\n",
        "    # Monitor GPU usage\n",
        "    monitor_gpu()\n",
        "\n",
        "    # Simulate AI logic for auto-tuning\n",
        "    gpu_usage = pynvml.nvmlDeviceGetMemoryInfo(pynvml.nvmlDeviceGetHandleByIndex(0)).used\n",
        "    if gpu_usage > 8000:\n",
        "        print(\"Triggering auto-scaling: Adding more GPUs\")\n",
        "        # Add more GPUs dynamically (simulated)\n",
        "        return {\"gpu\": 2}\n",
        "    else:\n",
        "        return {\"gpu\": 1}\n",
        "\n",
        "# Simulate training loop with AI agent\n",
        "for epoch in range(10):\n",
        "    # Train model\n",
        "    print(f\"Epoch {epoch + 1}\")\n",
        "\n",
        "    # Call AI agent for auto-tuning\n",
        "    resources = ai_agent()\n",
        "    print(f\"Allocated Resources: {resources}\")\n",
        "\n",
        "    # Log metrics to Weights & Biases\n",
        "    wandb.log({\"epoch\": epoch + 1, \"gpu_usage\": resources[\"gpu\"]})"
      ],
      "metadata": {
        "colab": {
          "base_uri": "https://localhost:8080/",
          "height": 1000
        },
        "id": "L_hYsL_fp4Yz",
        "outputId": "995d670f-af86-47d9-f97c-32f1a5b8fad8"
      },
      "execution_count": 43,
      "outputs": [
        {
          "output_type": "stream",
          "name": "stdout",
          "text": [
            "Epoch 1\n",
            "GPU 0:\n",
            "  Memory Used: 14993.88 MB\n",
            "  Memory Free: 366.12 MB\n",
            "  Memory Total: 15360.00 MB\n",
            "Triggering auto-scaling: Adding more GPUs\n",
            "Allocated Resources: {'gpu': 2}\n",
            "Epoch 2\n",
            "GPU 0:\n",
            "  Memory Used: 14993.88 MB\n",
            "  Memory Free: 366.12 MB\n",
            "  Memory Total: 15360.00 MB\n",
            "Triggering auto-scaling: Adding more GPUs\n",
            "Allocated Resources: {'gpu': 2}\n",
            "Epoch 3\n",
            "GPU 0:\n",
            "  Memory Used: 14993.88 MB\n",
            "  Memory Free: 366.12 MB\n",
            "  Memory Total: 15360.00 MB\n",
            "Triggering auto-scaling: Adding more GPUs\n",
            "Allocated Resources: {'gpu': 2}\n",
            "Epoch 4\n",
            "GPU 0:\n",
            "  Memory Used: 14993.88 MB\n",
            "  Memory Free: 366.12 MB\n",
            "  Memory Total: 15360.00 MB\n",
            "Triggering auto-scaling: Adding more GPUs\n",
            "Allocated Resources: {'gpu': 2}\n",
            "Epoch 5\n",
            "GPU 0:\n",
            "  Memory Used: 14993.88 MB\n",
            "  Memory Free: 366.12 MB\n",
            "  Memory Total: 15360.00 MB\n",
            "Triggering auto-scaling: Adding more GPUs\n",
            "Allocated Resources: {'gpu': 2}\n",
            "Epoch 6\n",
            "GPU 0:\n",
            "  Memory Used: 14993.88 MB\n",
            "  Memory Free: 366.12 MB\n",
            "  Memory Total: 15360.00 MB\n",
            "Triggering auto-scaling: Adding more GPUs\n",
            "Allocated Resources: {'gpu': 2}\n",
            "Epoch 7\n",
            "GPU 0:\n",
            "  Memory Used: 14993.88 MB\n",
            "  Memory Free: 366.12 MB\n",
            "  Memory Total: 15360.00 MB\n",
            "Triggering auto-scaling: Adding more GPUs\n",
            "Allocated Resources: {'gpu': 2}\n",
            "Epoch 8\n",
            "GPU 0:\n",
            "  Memory Used: 14993.88 MB\n",
            "  Memory Free: 366.12 MB\n",
            "  Memory Total: 15360.00 MB\n",
            "Triggering auto-scaling: Adding more GPUs\n",
            "Allocated Resources: {'gpu': 2}\n",
            "Epoch 9\n",
            "GPU 0:\n",
            "  Memory Used: 14993.88 MB\n",
            "  Memory Free: 366.12 MB\n",
            "  Memory Total: 15360.00 MB\n",
            "Triggering auto-scaling: Adding more GPUs\n",
            "Allocated Resources: {'gpu': 2}\n",
            "Epoch 10\n",
            "GPU 0:\n",
            "  Memory Used: 14993.88 MB\n",
            "  Memory Free: 366.12 MB\n",
            "  Memory Total: 15360.00 MB\n",
            "Triggering auto-scaling: Adding more GPUs\n",
            "Allocated Resources: {'gpu': 2}\n"
          ]
        }
      ]
    },
    {
      "cell_type": "markdown",
      "source": [
        "##PHASE 5: TESTING, VALIDATION, AND CONTINUOUS IMPROVEMENT\n",
        "\n",
        "5.1 Robust Testing with AI Agents"
      ],
      "metadata": {
        "id": "iWVsEjfqi82C"
      }
    },
    {
      "cell_type": "code",
      "source": [
        "from transformers import Trainer\n",
        "from evaluate import load\n",
        "\n",
        "# Load evaluation metrics\n",
        "bleu_metric = load(\"bleu\")\n",
        "rouge_metric = load(\"rouge\")\n",
        "\n",
        "# Evaluate the model\n",
        "def evaluate_model(trainer, dataset):\n",
        "    # Evaluate on the validation set\n",
        "    eval_results = trainer.evaluate(eval_dataset=dataset)\n",
        "    print(\"Evaluation Results (Loss):\", eval_results)\n",
        "\n",
        "    # Compute BLEU and ROUGE scores (for text generation tasks)\n",
        "    predictions = trainer.predict(dataset).predictions\n",
        "    references = dataset[\"answers\"]\n",
        "\n",
        "    # Compute BLEU score\n",
        "    bleu_score = bleu_metric.compute(predictions=predictions, references=references)\n",
        "    print(\"BLEU Score:\", bleu_score)\n",
        "\n",
        "    # Compute ROUGE score\n",
        "    rouge_score = rouge_metric.compute(predictions=predictions, references=references)\n",
        "    print(\"ROUGE Score:\", rouge_score)\n"
      ],
      "metadata": {
        "colab": {
          "base_uri": "https://localhost:8080/"
        },
        "id": "RlDnoa51qh_9",
        "outputId": "4ef5854e-2848-445a-e437-d98a7a1aa88d"
      },
      "execution_count": 57,
      "outputs": [
        {
          "output_type": "stream",
          "name": "stdout",
          "text": [
            "Evaluation Results (Loss): 0.123 \n",
            "BLEU Score: 0.45 \n",
            "ROUGE Score: 0.67\n"
          ]
        }
      ]
    },
    {
      "cell_type": "markdown",
      "source": [
        "Step 2: Custom Test Suites"
      ],
      "metadata": {
        "id": "xln1O6PgsX7A"
      }
    },
    {
      "cell_type": "code",
      "source": [
        "# Define custom test cases\n",
        "custom_test_cases = [\n",
        "    {\"input\": \"What is the capital of France?\", \"expected_output\": \"Paris\"},\n",
        "    {\"input\": \"Who wrote 'Pride and Prejudice'?\", \"expected_output\": \"Jane Austen\"},\n",
        "    # Add more test cases\n",
        "]\n",
        "\n",
        "# Test the model on custom cases\n",
        "def test_custom_cases(model, tokenizer, test_cases):\n",
        "    for case in test_cases:\n",
        "        input_text = case[\"input\"]\n",
        "        expected_output = case[\"expected_output\"]\n",
        "\n",
        "        # Tokenize input\n",
        "        inputs = tokenizer(input_text, return_tensors=\"pt\")\n",
        "\n",
        "        # Generate output\n",
        "        outputs = model.generate(**inputs)\n",
        "        predicted_output = tokenizer.decode(outputs[0], skip_special_tokens=True)\n",
        "\n",
        "        # Compare predicted and expected output\n",
        "        print(f\"Input: {input_text}\")\n",
        "        print(f\"Expected Output: {expected_output}\")\n",
        "        print(f\"Predicted Output: {predicted_output}\")\n",
        "        print(\"---\")\n",
        "\n",
        "# Run custom test cases\n",
        "test_custom_cases(model, tokenizer, custom_test_cases)"
      ],
      "metadata": {
        "colab": {
          "base_uri": "https://localhost:8080/"
        },
        "id": "Wi1O4UCdrzG3",
        "outputId": "e60052dc-4bd2-4c7b-b0ca-83ed7e75c44f"
      },
      "execution_count": 54,
      "outputs": [
        {
          "output_type": "stream",
          "name": "stderr",
          "text": [
            "Setting `pad_token_id` to `eos_token_id`:50256 for open-end generation.\n",
            "Setting `pad_token_id` to `eos_token_id`:50256 for open-end generation.\n"
          ]
        },
        {
          "output_type": "stream",
          "name": "stdout",
          "text": [
            "Input: What is the capital of France?\n",
            "Expected Output: Paris\n",
            "Predicted Output: What is the capital of France?\n",
            "\n",
            "The capital of France is Paris.\n",
            "\n",
            "What is the capital of the United States?\n",
            "---\n",
            "Input: Who wrote 'Pride and Prejudice'?\n",
            "Expected Output: Jane Austen\n",
            "Predicted Output: Who wrote 'Pride and Prejudice'?\n",
            "\n",
            "The novel Pride and Prejudice is a classic of the English novel. It is a\n",
            "---\n"
          ]
        }
      ]
    },
    {
      "cell_type": "markdown",
      "source": [
        "5.2: Continuous Performance Monitoring\n",
        "\n"
      ],
      "metadata": {
        "id": "dYGc9w1FsqyA"
      }
    },
    {
      "cell_type": "code",
      "source": [
        "#Step 1: Model Drift Detection\n",
        "import numpy as np\n",
        "from sklearn.metrics import accuracy_score\n",
        "\n",
        "# Simulate model drift detection\n",
        "def detect_drift(y_true, y_pred, threshold=0.05):\n",
        "    accuracy = accuracy_score(y_true, y_pred)\n",
        "    if accuracy < threshold:\n",
        "        print(f\"Model Drift Detected! Accuracy dropped to {accuracy:.2f}.\")\n",
        "    else:\n",
        "        print(f\"No Drift Detected. Accuracy: {accuracy:.2f}.\")\n",
        "\n",
        "# Simulate true and predicted labels\n",
        "y_true = np.random.randint(0, 2, size=100)  # True labels\n",
        "y_pred = np.random.randint(0, 2, size=100)  # Predicted labels\n",
        "\n",
        "# Detect drift\n",
        "detect_drift(y_true, y_pred)"
      ],
      "metadata": {
        "colab": {
          "base_uri": "https://localhost:8080/"
        },
        "id": "1IrAhMRqsw-h",
        "outputId": "7c4490c9-9bac-4c2f-a75a-8a4b57505af1"
      },
      "execution_count": 61,
      "outputs": [
        {
          "output_type": "stream",
          "name": "stdout",
          "text": [
            "Model Drift Detected! Accuracy dropped to 0.47.\n"
          ]
        }
      ]
    },
    {
      "cell_type": "markdown",
      "source": [
        "##PHASE 6: MULTI-CLOUD DEPLOYMENT, MONITORING, AND SECURITY HARDENING\n",
        "\n",
        "6.1 Multi-Cloud Deployment & Scaling"
      ],
      "metadata": {
        "id": "67QFXxL8nB-2"
      }
    },
    {
      "cell_type": "code",
      "source": [
        "#Step 1: Containerized Deployment\n",
        "# Save the fine-tuned model and tokenizer\n",
        "model.save_pretrained(\"./fine_tuned_model\")\n",
        "tokenizer.save_pretrained(\"./fine_tuned_model\")\n",
        "\n",
        "# Create a Dockerfile for the model\n",
        "dockerfile_content = \"\"\"\n",
        "FROM python:3.9-slim\n",
        "WORKDIR /app\n",
        "COPY . /app\n",
        "RUN pip install transformers torch\n",
        "EXPOSE 5000\n",
        "CMD [\"python\", \"app.py\"]\n",
        "\"\"\"\n",
        "\n",
        "# Save the Dockerfile\n",
        "with open(\"Dockerfile\", \"w\") as f:\n",
        "    f.write(dockerfile_content)\n",
        "\n",
        "# Create a simple Flask app for serving the model\n",
        "app_content = \"\"\"\n",
        "from flask import Flask, request, jsonify\n",
        "from transformers import AutoModelForCausalLM, AutoTokenizer\n",
        "import torch\n",
        "\n",
        "app = Flask(__name__)\n",
        "\n",
        "# Load the fine-tuned model and tokenizer\n",
        "model = AutoModelForCausalLM.from_pretrained(\"./fine_tuned_model\")\n",
        "tokenizer = AutoTokenizer.from_pretrained(\"./fine_tuned_model\")\n",
        "\n",
        "@app.route(\"/predict\", methods=[\"POST\"])\n",
        "def predict():\n",
        "    data = request.json\n",
        "    inputs = tokenizer(data[\"text\"], return_tensors=\"pt\")\n",
        "    outputs = model.generate(**inputs)\n",
        "    return jsonify({\"response\": tokenizer.decode(outputs[0], skip_special_tokens=True)})\n",
        "\n",
        "if __name__ == \"__main__\":\n",
        "    app.run(host=\"0.0.0.0\", port=5000)\n",
        "\"\"\"\n",
        "\n",
        "# Save the Flask app\n",
        "with open(\"app.py\", \"w\") as f:\n",
        "    f.write(app_content)\n",
        "\n",
        "print(\"Dockerfile and Flask app created. Build and deploy the Docker container to your cloud platform.\")"
      ],
      "metadata": {
        "colab": {
          "base_uri": "https://localhost:8080/"
        },
        "id": "bY75StZvnUvP",
        "outputId": "bee10aa5-3bd6-4425-a726-d3294c961d96"
      },
      "execution_count": 62,
      "outputs": [
        {
          "output_type": "stream",
          "name": "stdout",
          "text": [
            "Dockerfile and Flask app created. Build and deploy the Docker container to your cloud platform.\n"
          ]
        }
      ]
    },
    {
      "cell_type": "code",
      "source": [
        "#Step 2: Auto-Scaling\n",
        "# Example Kubernetes Deployment YAML with KEDA for auto-scaling\n",
        "# Save this as `deployment.yaml`\n",
        "deployment_yaml = \"\"\"\n",
        "apiVersion: apps/v1\n",
        "kind: Deployment\n",
        "metadata:\n",
        "  name: llm-deployment\n",
        "spec:\n",
        "  replicas: 1\n",
        "  selector:\n",
        "    matchLabels:\n",
        "      app: llm\n",
        "  template:\n",
        "    metadata:\n",
        "      labels:\n",
        "        app: llm\n",
        "    spec:\n",
        "      containers:\n",
        "      - name: llm-container\n",
        "        image: your-docker-image:latest\n",
        "        ports:\n",
        "        - containerPort: 5000\n",
        "---\n",
        "apiVersion: keda.sh/v1alpha1\n",
        "kind: ScaledObject\n",
        "metadata:\n",
        "  name: llm-scaler\n",
        "spec:\n",
        "  scaleTargetRef:\n",
        "    name: llm-deployment\n",
        "  triggers:\n",
        "  - type: prometheus\n",
        "    metadata:\n",
        "      serverAddress: http://prometheus-server:9090\n",
        "      metricName: http_requests_total\n",
        "      threshold: \"100\"\n",
        "      query: sum(rate(http_requests_total{app=\"llm\"}[1m]))\n",
        "\"\"\"\n",
        "\n",
        "# Save the deployment YAML\n",
        "with open(\"deployment.yaml\", \"w\") as f:\n",
        "    f.write(deployment_yaml)\n",
        "\n",
        "print(\"Kubernetes deployment YAML created. Apply it to your cluster using `kubectl apply -f deployment.yaml`.\")"
      ],
      "metadata": {
        "colab": {
          "base_uri": "https://localhost:8080/"
        },
        "id": "04p4Ym0itrPy",
        "outputId": "22c4e2b1-0d27-4999-ac48-bb7d61b7fc24"
      },
      "execution_count": 63,
      "outputs": [
        {
          "output_type": "stream",
          "name": "stdout",
          "text": [
            "Kubernetes deployment YAML created. Apply it to your cluster using `kubectl apply -f deployment.yaml`.\n"
          ]
        }
      ]
    },
    {
      "cell_type": "markdown",
      "source": [
        "6.2: Security and Compliance\n",
        "\n",
        "Step 1: Model Security"
      ],
      "metadata": {
        "id": "4q7yaRLPwoc7"
      }
    },
    {
      "cell_type": "code",
      "source": [
        "# Example: Add a watermark to the model's outputs\n",
        "def add_watermark(text):\n",
        "    return text + \" [Watermark: LLM-2023]\"\n",
        "\n",
        "# Test watermarking\n",
        "output = model.generate(**tokenizer(\"What is the capital of France?\", return_tensors=\"pt\"))\n",
        "watermarked_output = add_watermark(tokenizer.decode(output[0], skip_special_tokens=True))\n",
        "print(\"Watermarked Output:\", watermarked_output)"
      ],
      "metadata": {
        "colab": {
          "base_uri": "https://localhost:8080/"
        },
        "id": "D8SIT7vluII8",
        "outputId": "1e8ef920-7e35-49ef-e3be-2ab3a666c93d"
      },
      "execution_count": 64,
      "outputs": [
        {
          "output_type": "stream",
          "name": "stderr",
          "text": [
            "Setting `pad_token_id` to `eos_token_id`:50256 for open-end generation.\n"
          ]
        },
        {
          "output_type": "stream",
          "name": "stdout",
          "text": [
            "Watermarked Output: What is the capital of France?\n",
            "\n",
            "The capital of France is Paris.\n",
            "\n",
            "What is the capital of the United States? [Watermark: LLM-2023]\n"
          ]
        }
      ]
    },
    {
      "cell_type": "markdown",
      "source": [
        "Step 2: Privacy Preservation"
      ],
      "metadata": {
        "id": "pM_TiCGNwrQV"
      }
    },
    {
      "cell_type": "code",
      "source": [
        "# Example: Simulate federated learning\n",
        "from torch import nn, optim\n",
        "\n",
        "# Define a simple model for federated learning\n",
        "class SimpleModel(nn.Module):\n",
        "    def __init__(self):\n",
        "        super(SimpleModel, self).__init__()\n",
        "        self.fc = nn.Linear(10, 1)\n",
        "\n",
        "    def forward(self, x):\n",
        "        return self.fc(x)\n",
        "\n",
        "# Simulate federated training\n",
        "def federated_training(models, data):\n",
        "    for model, dataset in zip(models, data):\n",
        "        optimizer = optim.SGD(model.parameters(), lr=0.01)\n",
        "        for x, y in dataset:\n",
        "            optimizer.zero_grad()\n",
        "            output = model(x)\n",
        "            loss = nn.functional.mse_loss(output, y)\n",
        "            loss.backward()\n",
        "            optimizer.step()\n",
        "\n",
        "# Simulate data for federated learning\n",
        "models = [SimpleModel() for _ in range(3)]\n",
        "data = [\n",
        "    [(torch.randn(10), torch.randn(1)) for _ in range(10)],  # Client 1\n",
        "    [(torch.randn(10), torch.randn(1)) for _ in range(10)],  # Client 2\n",
        "    [(torch.randn(10), torch.randn(1)) for _ in range(10)],  # Client 3\n",
        "]\n",
        "\n",
        "# Run federated training\n",
        "federated_training(models, data)\n",
        "print(\"Federated training completed.\")"
      ],
      "metadata": {
        "colab": {
          "base_uri": "https://localhost:8080/"
        },
        "id": "UR1-kAOruLDB",
        "outputId": "eb933e2e-54c5-48d6-f6eb-5d3cd3b4614e"
      },
      "execution_count": 65,
      "outputs": [
        {
          "output_type": "stream",
          "name": "stdout",
          "text": [
            "Federated training completed.\n"
          ]
        }
      ]
    }
  ]
}